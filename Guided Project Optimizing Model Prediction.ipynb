{
 "cells": [
  {
   "cell_type": "code",
   "execution_count": 71,
   "id": "47854307-f7a0-4353-ba78-7a0f207f5333",
   "metadata": {},
   "outputs": [],
   "source": [
    "import pandas as pd\n",
    "import numpy as np\n",
    "from sklearn.linear_model import LinearRegression\n",
    "from sklearn.impute import KNNImputer\n",
    "from sklearn.preprocessing import StandardScaler\n",
    "from sklearn.feature_selection import SequentialFeatureSelector\n",
    "from sklearn.linear_model import LassoCV, RidgeCV\n",
    "from sklearn.model_selection import cross_val_score \n",
    "import matplotlib.pyplot as plt\n",
    "from sklearn.preprocessing import SplineTransformer"
   ]
  },
  {
   "cell_type": "code",
   "execution_count": 38,
   "id": "d709e354-4e0f-497d-8616-4b7bdcdf06b9",
   "metadata": {},
   "outputs": [],
   "source": [
    "fires = pd.read_csv(\"fires.csv\")\n",
    "\n",
    "sub= fires[[\"wind\", \"temp\", \"area\"]].dropna()\n",
    "reference_X = sub[[\"wind\", \"temp\"]]\n",
    "\n",
    "reference = LinearRegression()"
   ]
  },
  {
   "cell_type": "code",
   "execution_count": 39,
   "id": "3b572540-8fcf-4ecb-b851-5eff095e2dee",
   "metadata": {},
   "outputs": [
    {
     "data": {
      "text/plain": [
       "Unnamed: 0     0\n",
       "X              0\n",
       "Y              0\n",
       "month          0\n",
       "day            0\n",
       "FFMC          48\n",
       "DMC           21\n",
       "DC            43\n",
       "ISI            2\n",
       "temp          21\n",
       "RH            30\n",
       "wind          35\n",
       "rain          32\n",
       "area           0\n",
       "dtype: int64"
      ]
     },
     "execution_count": 39,
     "metadata": {},
     "output_type": "execute_result"
    }
   ],
   "source": [
    "fires.isnull().sum()"
   ]
  },
  {
   "cell_type": "code",
   "execution_count": 40,
   "id": "652a3c4c-c2e2-4fa3-8760-3224d1dcdf6a",
   "metadata": {},
   "outputs": [
    {
     "name": "stdout",
     "output_type": "stream",
     "text": [
      "<class 'pandas.core.frame.DataFrame'>\n",
      "RangeIndex: 517 entries, 0 to 516\n",
      "Data columns (total 14 columns):\n",
      " #   Column      Non-Null Count  Dtype  \n",
      "---  ------      --------------  -----  \n",
      " 0   Unnamed: 0  517 non-null    int64  \n",
      " 1   X           517 non-null    int64  \n",
      " 2   Y           517 non-null    int64  \n",
      " 3   month       517 non-null    object \n",
      " 4   day         517 non-null    object \n",
      " 5   FFMC        469 non-null    float64\n",
      " 6   DMC         496 non-null    float64\n",
      " 7   DC          474 non-null    float64\n",
      " 8   ISI         515 non-null    float64\n",
      " 9   temp        496 non-null    float64\n",
      " 10  RH          487 non-null    float64\n",
      " 11  wind        482 non-null    float64\n",
      " 12  rain        485 non-null    float64\n",
      " 13  area        517 non-null    float64\n",
      "dtypes: float64(9), int64(3), object(2)\n",
      "memory usage: 56.7+ KB\n"
     ]
    }
   ],
   "source": [
    "fires.info()"
   ]
  },
  {
   "cell_type": "code",
   "execution_count": 41,
   "id": "05694fc1-7020-49b1-8290-6120c55cd5c9",
   "metadata": {},
   "outputs": [
    {
     "data": {
      "text/html": [
       "<div>\n",
       "<style scoped>\n",
       "    .dataframe tbody tr th:only-of-type {\n",
       "        vertical-align: middle;\n",
       "    }\n",
       "\n",
       "    .dataframe tbody tr th {\n",
       "        vertical-align: top;\n",
       "    }\n",
       "\n",
       "    .dataframe thead th {\n",
       "        text-align: right;\n",
       "    }\n",
       "</style>\n",
       "<table border=\"1\" class=\"dataframe\">\n",
       "  <thead>\n",
       "    <tr style=\"text-align: right;\">\n",
       "      <th></th>\n",
       "      <th>Unnamed: 0</th>\n",
       "      <th>X</th>\n",
       "      <th>Y</th>\n",
       "      <th>month</th>\n",
       "      <th>day</th>\n",
       "      <th>FFMC</th>\n",
       "      <th>DMC</th>\n",
       "      <th>DC</th>\n",
       "      <th>ISI</th>\n",
       "      <th>temp</th>\n",
       "      <th>RH</th>\n",
       "      <th>wind</th>\n",
       "      <th>rain</th>\n",
       "      <th>area</th>\n",
       "    </tr>\n",
       "  </thead>\n",
       "  <tbody>\n",
       "    <tr>\n",
       "      <th>0</th>\n",
       "      <td>1</td>\n",
       "      <td>7</td>\n",
       "      <td>5</td>\n",
       "      <td>mar</td>\n",
       "      <td>fri</td>\n",
       "      <td>86.2</td>\n",
       "      <td>26.2</td>\n",
       "      <td>94.3</td>\n",
       "      <td>5.1</td>\n",
       "      <td>NaN</td>\n",
       "      <td>51.0</td>\n",
       "      <td>6.7</td>\n",
       "      <td>0.0</td>\n",
       "      <td>0.0</td>\n",
       "    </tr>\n",
       "    <tr>\n",
       "      <th>1</th>\n",
       "      <td>2</td>\n",
       "      <td>7</td>\n",
       "      <td>4</td>\n",
       "      <td>oct</td>\n",
       "      <td>tue</td>\n",
       "      <td>90.6</td>\n",
       "      <td>NaN</td>\n",
       "      <td>669.1</td>\n",
       "      <td>6.7</td>\n",
       "      <td>18.0</td>\n",
       "      <td>33.0</td>\n",
       "      <td>0.9</td>\n",
       "      <td>0.0</td>\n",
       "      <td>0.0</td>\n",
       "    </tr>\n",
       "    <tr>\n",
       "      <th>2</th>\n",
       "      <td>3</td>\n",
       "      <td>7</td>\n",
       "      <td>4</td>\n",
       "      <td>oct</td>\n",
       "      <td>sat</td>\n",
       "      <td>90.6</td>\n",
       "      <td>43.7</td>\n",
       "      <td>NaN</td>\n",
       "      <td>6.7</td>\n",
       "      <td>14.6</td>\n",
       "      <td>33.0</td>\n",
       "      <td>1.3</td>\n",
       "      <td>0.0</td>\n",
       "      <td>0.0</td>\n",
       "    </tr>\n",
       "    <tr>\n",
       "      <th>3</th>\n",
       "      <td>4</td>\n",
       "      <td>8</td>\n",
       "      <td>6</td>\n",
       "      <td>mar</td>\n",
       "      <td>fri</td>\n",
       "      <td>91.7</td>\n",
       "      <td>33.3</td>\n",
       "      <td>77.5</td>\n",
       "      <td>9.0</td>\n",
       "      <td>8.3</td>\n",
       "      <td>97.0</td>\n",
       "      <td>4.0</td>\n",
       "      <td>0.2</td>\n",
       "      <td>0.0</td>\n",
       "    </tr>\n",
       "    <tr>\n",
       "      <th>4</th>\n",
       "      <td>5</td>\n",
       "      <td>8</td>\n",
       "      <td>6</td>\n",
       "      <td>mar</td>\n",
       "      <td>sun</td>\n",
       "      <td>89.3</td>\n",
       "      <td>51.3</td>\n",
       "      <td>102.2</td>\n",
       "      <td>9.6</td>\n",
       "      <td>11.4</td>\n",
       "      <td>99.0</td>\n",
       "      <td>NaN</td>\n",
       "      <td>0.0</td>\n",
       "      <td>0.0</td>\n",
       "    </tr>\n",
       "  </tbody>\n",
       "</table>\n",
       "</div>"
      ],
      "text/plain": [
       "   Unnamed: 0  X  Y month  day  FFMC   DMC     DC  ISI  temp    RH  wind  \\\n",
       "0           1  7  5   mar  fri  86.2  26.2   94.3  5.1   NaN  51.0   6.7   \n",
       "1           2  7  4   oct  tue  90.6   NaN  669.1  6.7  18.0  33.0   0.9   \n",
       "2           3  7  4   oct  sat  90.6  43.7    NaN  6.7  14.6  33.0   1.3   \n",
       "3           4  8  6   mar  fri  91.7  33.3   77.5  9.0   8.3  97.0   4.0   \n",
       "4           5  8  6   mar  sun  89.3  51.3  102.2  9.6  11.4  99.0   NaN   \n",
       "\n",
       "   rain  area  \n",
       "0   0.0   0.0  \n",
       "1   0.0   0.0  \n",
       "2   0.0   0.0  \n",
       "3   0.2   0.0  \n",
       "4   0.0   0.0  "
      ]
     },
     "execution_count": 41,
     "metadata": {},
     "output_type": "execute_result"
    }
   ],
   "source": [
    "fires.head()"
   ]
  },
  {
   "cell_type": "code",
   "execution_count": 42,
   "id": "f77f0eff-2d18-4e9a-a157-67c29b9240fa",
   "metadata": {},
   "outputs": [
    {
     "data": {
      "image/png": "[encoded data removed]",
      "text/plain": [
       "<Figure size 640x480 with 1 Axes>"
      ]
     },
     "metadata": {},
     "output_type": "display_data"
    }
   ],
   "source": [
    "fires[\"area\"].plot.hist( bins=30)\n",
    "plt.show()"
   ]
  },
  {
   "cell_type": "markdown",
   "id": "2df3a9a6-8ab2-4ff9-8064-91fce0b4e20f",
   "metadata": {},
   "source": [
    "The column area is heavily right skewed, so it's better to create a log for of it."
   ]
  },
  {
   "cell_type": "code",
   "execution_count": 43,
   "id": "ddfaadf2-5bf5-4ce1-ad0b-76a34e85bd6e",
   "metadata": {},
   "outputs": [
    {
     "data": {
      "image/png": "[encoded data removed]",
      "text/plain": [
       "<Figure size 640x480 with 1 Axes>"
      ]
     },
     "metadata": {},
     "output_type": "display_data"
    }
   ],
   "source": [
    "fires[\"log_area\"]=np.log(fires[\"area\"]+1)\n",
    "fires[\"log_area\"].plot.hist( bins=30)\n",
    "plt.show()"
   ]
  },
  {
   "cell_type": "markdown",
   "id": "e8837a6b-a071-4665-b6ea-9a766c85cf35",
   "metadata": {},
   "source": [
    "Then we create the dummy for the variable moth, so we can use them as features. This just for the summer months, because there is a higher probability to have a fire during summer. "
   ]
  },
  {
   "cell_type": "code",
   "execution_count": 44,
   "id": "22325a63-7b91-4fd2-af11-290d82a5d1dc",
   "metadata": {},
   "outputs": [],
   "source": [
    "cleaned_df=pd.concat([fires, pd.get_dummies(fires[\"month\"])], axis=1)"
   ]
  },
  {
   "cell_type": "code",
   "execution_count": 45,
   "id": "6d863c56-2d09-4ca2-95a8-bda33bd78825",
   "metadata": {},
   "outputs": [],
   "source": [
    "cleaned_df=cleaned_df.drop([\"dec\",\"jan\", \"feb\", \"apr\", \"mar\",\"may\", \"oct\", \"nov\", \"month\"], axis=1)"
   ]
  },
  {
   "cell_type": "code",
   "execution_count": 46,
   "id": "f18a34c4-c823-475f-8ca5-c12a88ae3b47",
   "metadata": {},
   "outputs": [
    {
     "name": "stdout",
     "output_type": "stream",
     "text": [
      "<class 'pandas.core.frame.DataFrame'>\n",
      "RangeIndex: 517 entries, 0 to 516\n",
      "Data columns (total 18 columns):\n",
      " #   Column      Non-Null Count  Dtype  \n",
      "---  ------      --------------  -----  \n",
      " 0   Unnamed: 0  517 non-null    int64  \n",
      " 1   X           517 non-null    int64  \n",
      " 2   Y           517 non-null    int64  \n",
      " 3   day         517 non-null    object \n",
      " 4   FFMC        469 non-null    float64\n",
      " 5   DMC         496 non-null    float64\n",
      " 6   DC          474 non-null    float64\n",
      " 7   ISI         515 non-null    float64\n",
      " 8   temp        496 non-null    float64\n",
      " 9   RH          487 non-null    float64\n",
      " 10  wind        482 non-null    float64\n",
      " 11  rain        485 non-null    float64\n",
      " 12  area        517 non-null    float64\n",
      " 13  log_area    517 non-null    float64\n",
      " 14  aug         517 non-null    uint8  \n",
      " 15  jul         517 non-null    uint8  \n",
      " 16  jun         517 non-null    uint8  \n",
      " 17  sep         517 non-null    uint8  \n",
      "dtypes: float64(10), int64(3), object(1), uint8(4)\n",
      "memory usage: 58.7+ KB\n"
     ]
    }
   ],
   "source": [
    "cleaned_df.info()"
   ]
  },
  {
   "cell_type": "code",
   "execution_count": 47,
   "id": "b12a5f5f-2b1a-4ef9-b26c-02036a3bc239",
   "metadata": {},
   "outputs": [
    {
     "data": {
      "text/html": [
       "<div>\n",
       "<style scoped>\n",
       "    .dataframe tbody tr th:only-of-type {\n",
       "        vertical-align: middle;\n",
       "    }\n",
       "\n",
       "    .dataframe tbody tr th {\n",
       "        vertical-align: top;\n",
       "    }\n",
       "\n",
       "    .dataframe thead th {\n",
       "        text-align: right;\n",
       "    }\n",
       "</style>\n",
       "<table border=\"1\" class=\"dataframe\">\n",
       "  <thead>\n",
       "    <tr style=\"text-align: right;\">\n",
       "      <th></th>\n",
       "      <th>FFMC</th>\n",
       "      <th>DMC</th>\n",
       "      <th>DC</th>\n",
       "      <th>ISI</th>\n",
       "      <th>temp</th>\n",
       "      <th>RH</th>\n",
       "      <th>wind</th>\n",
       "    </tr>\n",
       "  </thead>\n",
       "  <tbody>\n",
       "    <tr>\n",
       "      <th>0</th>\n",
       "      <td>86.2</td>\n",
       "      <td>26.200000</td>\n",
       "      <td>94.300000</td>\n",
       "      <td>5.1</td>\n",
       "      <td>16.6</td>\n",
       "      <td>51.0</td>\n",
       "      <td>6.700000</td>\n",
       "    </tr>\n",
       "    <tr>\n",
       "      <th>1</th>\n",
       "      <td>90.6</td>\n",
       "      <td>56.433333</td>\n",
       "      <td>669.100000</td>\n",
       "      <td>6.7</td>\n",
       "      <td>18.0</td>\n",
       "      <td>33.0</td>\n",
       "      <td>0.900000</td>\n",
       "    </tr>\n",
       "    <tr>\n",
       "      <th>2</th>\n",
       "      <td>90.6</td>\n",
       "      <td>43.700000</td>\n",
       "      <td>470.833333</td>\n",
       "      <td>6.7</td>\n",
       "      <td>14.6</td>\n",
       "      <td>33.0</td>\n",
       "      <td>1.300000</td>\n",
       "    </tr>\n",
       "    <tr>\n",
       "      <th>3</th>\n",
       "      <td>91.7</td>\n",
       "      <td>33.300000</td>\n",
       "      <td>77.500000</td>\n",
       "      <td>9.0</td>\n",
       "      <td>8.3</td>\n",
       "      <td>97.0</td>\n",
       "      <td>4.000000</td>\n",
       "    </tr>\n",
       "    <tr>\n",
       "      <th>4</th>\n",
       "      <td>89.3</td>\n",
       "      <td>51.300000</td>\n",
       "      <td>102.200000</td>\n",
       "      <td>9.6</td>\n",
       "      <td>11.4</td>\n",
       "      <td>99.0</td>\n",
       "      <td>4.333333</td>\n",
       "    </tr>\n",
       "    <tr>\n",
       "      <th>...</th>\n",
       "      <td>...</td>\n",
       "      <td>...</td>\n",
       "      <td>...</td>\n",
       "      <td>...</td>\n",
       "      <td>...</td>\n",
       "      <td>...</td>\n",
       "      <td>...</td>\n",
       "    </tr>\n",
       "    <tr>\n",
       "      <th>512</th>\n",
       "      <td>81.6</td>\n",
       "      <td>56.700000</td>\n",
       "      <td>665.600000</td>\n",
       "      <td>1.9</td>\n",
       "      <td>27.8</td>\n",
       "      <td>32.0</td>\n",
       "      <td>2.700000</td>\n",
       "    </tr>\n",
       "    <tr>\n",
       "      <th>513</th>\n",
       "      <td>81.6</td>\n",
       "      <td>56.700000</td>\n",
       "      <td>665.600000</td>\n",
       "      <td>1.9</td>\n",
       "      <td>21.9</td>\n",
       "      <td>71.0</td>\n",
       "      <td>5.800000</td>\n",
       "    </tr>\n",
       "    <tr>\n",
       "      <th>514</th>\n",
       "      <td>81.6</td>\n",
       "      <td>56.700000</td>\n",
       "      <td>665.600000</td>\n",
       "      <td>1.9</td>\n",
       "      <td>21.2</td>\n",
       "      <td>70.0</td>\n",
       "      <td>6.700000</td>\n",
       "    </tr>\n",
       "    <tr>\n",
       "      <th>515</th>\n",
       "      <td>94.4</td>\n",
       "      <td>146.000000</td>\n",
       "      <td>614.700000</td>\n",
       "      <td>11.3</td>\n",
       "      <td>25.6</td>\n",
       "      <td>42.0</td>\n",
       "      <td>4.000000</td>\n",
       "    </tr>\n",
       "    <tr>\n",
       "      <th>516</th>\n",
       "      <td>79.5</td>\n",
       "      <td>3.000000</td>\n",
       "      <td>106.700000</td>\n",
       "      <td>1.1</td>\n",
       "      <td>11.8</td>\n",
       "      <td>31.0</td>\n",
       "      <td>4.500000</td>\n",
       "    </tr>\n",
       "  </tbody>\n",
       "</table>\n",
       "<p>517 rows × 7 columns</p>\n",
       "</div>"
      ],
      "text/plain": [
       "     FFMC         DMC          DC   ISI  temp    RH      wind\n",
       "0    86.2   26.200000   94.300000   5.1  16.6  51.0  6.700000\n",
       "1    90.6   56.433333  669.100000   6.7  18.0  33.0  0.900000\n",
       "2    90.6   43.700000  470.833333   6.7  14.6  33.0  1.300000\n",
       "3    91.7   33.300000   77.500000   9.0   8.3  97.0  4.000000\n",
       "4    89.3   51.300000  102.200000   9.6  11.4  99.0  4.333333\n",
       "..    ...         ...         ...   ...   ...   ...       ...\n",
       "512  81.6   56.700000  665.600000   1.9  27.8  32.0  2.700000\n",
       "513  81.6   56.700000  665.600000   1.9  21.9  71.0  5.800000\n",
       "514  81.6   56.700000  665.600000   1.9  21.2  70.0  6.700000\n",
       "515  94.4  146.000000  614.700000  11.3  25.6  42.0  4.000000\n",
       "516  79.5    3.000000  106.700000   1.1  11.8  31.0  4.500000\n",
       "\n",
       "[517 rows x 7 columns]"
      ]
     },
     "execution_count": 47,
     "metadata": {},
     "output_type": "execute_result"
    }
   ],
   "source": [
    "imp = KNNImputer(missing_values = np.nan, n_neighbors=3)\n",
    "\n",
    "missing_val = fires[cleaned_df.columns[4:11]] \n",
    "imp = pd.DataFrame(imp.fit_transform(missing_val), columns = cleaned_df.columns[4:11])\n",
    "imp"
   ]
  },
  {
   "cell_type": "code",
   "execution_count": 48,
   "id": "c1b1efb8-cab2-4bc0-8156-5ff80fa9e988",
   "metadata": {},
   "outputs": [
    {
     "data": {
      "image/png": "[encoded data removed]",
      "text/plain": [
       "<Figure size 640x480 with 1 Axes>"
      ]
     },
     "metadata": {},
     "output_type": "display_data"
    }
   ],
   "source": [
    "imp.boxplot()\n",
    "plt.show()"
   ]
  },
  {
   "cell_type": "code",
   "execution_count": 49,
   "id": "fe5673b8-f10c-46fa-b338-96ca928c819a",
   "metadata": {},
   "outputs": [
    {
     "name": "stdout",
     "output_type": "stream",
     "text": [
      "Number of outliers for the FFMC column: 0\n",
      "Number of outliers for the DMC column: 0\n",
      "Number of outliers for the DC column: 0\n",
      "Number of outliers for the ISI column: 0\n",
      "Number of outliers for the temp column: 0\n",
      "Number of outliers for the RH column: 0\n",
      "Number of outliers for the wind column: 0\n"
     ]
    }
   ],
   "source": [
    "for i in imp:\n",
    "    percentile= [25, 50, 75]\n",
    "    df_quart = np.percentile(fires[i], percentile)\n",
    "    iqr = df_quart[2] - df_quart[0]\n",
    "    lower_bound = df_quart[0] - (1.5 * iqr)\n",
    "    upper_bound = df_quart[2] + (1.5 * iqr)\n",
    "    num_outliers =sum((imp[i] < lower_bound) | (imp[i] > upper_bound))\n",
    "\n",
    "    print(f\"Number of outliers for the {i} column: {num_outliers}\")"
   ]
  },
  {
   "cell_type": "code",
   "execution_count": 50,
   "id": "3ed4c3d0-9353-4876-9243-beb2b37eb65c",
   "metadata": {},
   "outputs": [
    {
     "data": {
      "text/html": [
       "<div>\n",
       "<style scoped>\n",
       "    .dataframe tbody tr th:only-of-type {\n",
       "        vertical-align: middle;\n",
       "    }\n",
       "\n",
       "    .dataframe tbody tr th {\n",
       "        vertical-align: top;\n",
       "    }\n",
       "\n",
       "    .dataframe thead th {\n",
       "        text-align: right;\n",
       "    }\n",
       "</style>\n",
       "<table border=\"1\" class=\"dataframe\">\n",
       "  <thead>\n",
       "    <tr style=\"text-align: right;\">\n",
       "      <th></th>\n",
       "      <th>jun</th>\n",
       "      <th>jul</th>\n",
       "      <th>aug</th>\n",
       "      <th>sep</th>\n",
       "      <th>FFMC</th>\n",
       "      <th>DMC</th>\n",
       "      <th>DC</th>\n",
       "      <th>ISI</th>\n",
       "      <th>temp</th>\n",
       "      <th>RH</th>\n",
       "      <th>wind</th>\n",
       "    </tr>\n",
       "  </thead>\n",
       "  <tbody>\n",
       "    <tr>\n",
       "      <th>0</th>\n",
       "      <td>0</td>\n",
       "      <td>0</td>\n",
       "      <td>0</td>\n",
       "      <td>0</td>\n",
       "      <td>-0.812224</td>\n",
       "      <td>-1.337000</td>\n",
       "      <td>-1.841182</td>\n",
       "      <td>-0.860187</td>\n",
       "      <td>-0.398943</td>\n",
       "      <td>0.419908</td>\n",
       "      <td>1.510163</td>\n",
       "    </tr>\n",
       "    <tr>\n",
       "      <th>1</th>\n",
       "      <td>0</td>\n",
       "      <td>0</td>\n",
       "      <td>0</td>\n",
       "      <td>0</td>\n",
       "      <td>-0.010676</td>\n",
       "      <td>-0.859829</td>\n",
       "      <td>0.509118</td>\n",
       "      <td>-0.508736</td>\n",
       "      <td>-0.156197</td>\n",
       "      <td>-0.714941</td>\n",
       "      <td>-1.763755</td>\n",
       "    </tr>\n",
       "    <tr>\n",
       "      <th>2</th>\n",
       "      <td>0</td>\n",
       "      <td>0</td>\n",
       "      <td>0</td>\n",
       "      <td>0</td>\n",
       "      <td>-0.010676</td>\n",
       "      <td>-1.060798</td>\n",
       "      <td>-0.301575</td>\n",
       "      <td>-0.508736</td>\n",
       "      <td>-0.745724</td>\n",
       "      <td>-0.714941</td>\n",
       "      <td>-1.537968</td>\n",
       "    </tr>\n",
       "    <tr>\n",
       "      <th>3</th>\n",
       "      <td>0</td>\n",
       "      <td>0</td>\n",
       "      <td>0</td>\n",
       "      <td>0</td>\n",
       "      <td>0.189710</td>\n",
       "      <td>-1.224941</td>\n",
       "      <td>-1.909876</td>\n",
       "      <td>-0.003526</td>\n",
       "      <td>-1.838083</td>\n",
       "      <td>3.320075</td>\n",
       "      <td>-0.013902</td>\n",
       "    </tr>\n",
       "    <tr>\n",
       "      <th>4</th>\n",
       "      <td>0</td>\n",
       "      <td>0</td>\n",
       "      <td>0</td>\n",
       "      <td>0</td>\n",
       "      <td>-0.247497</td>\n",
       "      <td>-0.940848</td>\n",
       "      <td>-1.808880</td>\n",
       "      <td>0.128267</td>\n",
       "      <td>-1.300573</td>\n",
       "      <td>3.446170</td>\n",
       "      <td>0.174254</td>\n",
       "    </tr>\n",
       "    <tr>\n",
       "      <th>...</th>\n",
       "      <td>...</td>\n",
       "      <td>...</td>\n",
       "      <td>...</td>\n",
       "      <td>...</td>\n",
       "      <td>...</td>\n",
       "      <td>...</td>\n",
       "      <td>...</td>\n",
       "      <td>...</td>\n",
       "      <td>...</td>\n",
       "      <td>...</td>\n",
       "      <td>...</td>\n",
       "    </tr>\n",
       "    <tr>\n",
       "      <th>512</th>\n",
       "      <td>0</td>\n",
       "      <td>0</td>\n",
       "      <td>1</td>\n",
       "      <td>0</td>\n",
       "      <td>-1.650205</td>\n",
       "      <td>-0.855620</td>\n",
       "      <td>0.494807</td>\n",
       "      <td>-1.563087</td>\n",
       "      <td>1.543028</td>\n",
       "      <td>-0.777988</td>\n",
       "      <td>-0.747712</td>\n",
       "    </tr>\n",
       "    <tr>\n",
       "      <th>513</th>\n",
       "      <td>0</td>\n",
       "      <td>0</td>\n",
       "      <td>1</td>\n",
       "      <td>0</td>\n",
       "      <td>-1.650205</td>\n",
       "      <td>-0.855620</td>\n",
       "      <td>0.494807</td>\n",
       "      <td>-1.563087</td>\n",
       "      <td>0.520026</td>\n",
       "      <td>1.680850</td>\n",
       "      <td>1.002141</td>\n",
       "    </tr>\n",
       "    <tr>\n",
       "      <th>514</th>\n",
       "      <td>0</td>\n",
       "      <td>0</td>\n",
       "      <td>1</td>\n",
       "      <td>0</td>\n",
       "      <td>-1.650205</td>\n",
       "      <td>-0.855620</td>\n",
       "      <td>0.494807</td>\n",
       "      <td>-1.563087</td>\n",
       "      <td>0.398652</td>\n",
       "      <td>1.617803</td>\n",
       "      <td>1.510163</td>\n",
       "    </tr>\n",
       "    <tr>\n",
       "      <th>515</th>\n",
       "      <td>0</td>\n",
       "      <td>0</td>\n",
       "      <td>1</td>\n",
       "      <td>0</td>\n",
       "      <td>0.681569</td>\n",
       "      <td>0.553796</td>\n",
       "      <td>0.286682</td>\n",
       "      <td>0.501683</td>\n",
       "      <td>1.161570</td>\n",
       "      <td>-0.147516</td>\n",
       "      <td>-0.013902</td>\n",
       "    </tr>\n",
       "    <tr>\n",
       "      <th>516</th>\n",
       "      <td>0</td>\n",
       "      <td>0</td>\n",
       "      <td>0</td>\n",
       "      <td>0</td>\n",
       "      <td>-2.032761</td>\n",
       "      <td>-1.703164</td>\n",
       "      <td>-1.790480</td>\n",
       "      <td>-1.738812</td>\n",
       "      <td>-1.231217</td>\n",
       "      <td>-0.841035</td>\n",
       "      <td>0.268332</td>\n",
       "    </tr>\n",
       "  </tbody>\n",
       "</table>\n",
       "<p>517 rows × 11 columns</p>\n",
       "</div>"
      ],
      "text/plain": [
       "     jun  jul  aug  sep      FFMC       DMC        DC       ISI      temp  \\\n",
       "0      0    0    0    0 -0.812224 -1.337000 -1.841182 -0.860187 -0.398943   \n",
       "1      0    0    0    0 -0.010676 -0.859829  0.509118 -0.508736 -0.156197   \n",
       "2      0    0    0    0 -0.010676 -1.060798 -0.301575 -0.508736 -0.745724   \n",
       "3      0    0    0    0  0.189710 -1.224941 -1.909876 -0.003526 -1.838083   \n",
       "4      0    0    0    0 -0.247497 -0.940848 -1.808880  0.128267 -1.300573   \n",
       "..   ...  ...  ...  ...       ...       ...       ...       ...       ...   \n",
       "512    0    0    1    0 -1.650205 -0.855620  0.494807 -1.563087  1.543028   \n",
       "513    0    0    1    0 -1.650205 -0.855620  0.494807 -1.563087  0.520026   \n",
       "514    0    0    1    0 -1.650205 -0.855620  0.494807 -1.563087  0.398652   \n",
       "515    0    0    1    0  0.681569  0.553796  0.286682  0.501683  1.161570   \n",
       "516    0    0    0    0 -2.032761 -1.703164 -1.790480 -1.738812 -1.231217   \n",
       "\n",
       "           RH      wind  \n",
       "0    0.419908  1.510163  \n",
       "1   -0.714941 -1.763755  \n",
       "2   -0.714941 -1.537968  \n",
       "3    3.320075 -0.013902  \n",
       "4    3.446170  0.174254  \n",
       "..        ...       ...  \n",
       "512 -0.777988 -0.747712  \n",
       "513  1.680850  1.002141  \n",
       "514  1.617803  1.510163  \n",
       "515 -0.147516 -0.013902  \n",
       "516 -0.841035  0.268332  \n",
       "\n",
       "[517 rows x 11 columns]"
      ]
     },
     "execution_count": 50,
     "metadata": {},
     "output_type": "execute_result"
    }
   ],
   "source": [
    "scaler = StandardScaler()\n",
    "scaled = scaler.fit_transform(imp)\n",
    "scaled = pd.DataFrame(scaled, columns = cleaned_df.columns[4:11])\n",
    "\n",
    "final_df = pd.concat([cleaned_df[[\"jun\", \"jul\", \"aug\", \"sep\"]], scaled], axis=1)\n",
    "\n",
    "final_df"
   ]
  },
  {
   "cell_type": "code",
   "execution_count": 51,
   "id": "42b481b3-3ba5-4904-84d8-ace2192a3e04",
   "metadata": {},
   "outputs": [
    {
     "name": "stdout",
     "output_type": "stream",
     "text": [
      "Features selected with 2: ['FFMC' 'DC']\n",
      "Features selected with 4: ['jul' 'FFMC' 'DC' 'wind']\n",
      "Features selected with 6: ['jul' 'aug' 'sep' 'FFMC' 'DC' 'wind']\n",
      "Features selected with 8: ['jul' 'aug' 'sep' 'FFMC' 'DC' 'ISI' 'RH' 'wind']\n"
     ]
    }
   ],
   "source": [
    "y = fires[\"log_area\"]\n",
    "\n",
    "lm = LinearRegression()\n",
    "\n",
    "forward_2 = SequentialFeatureSelector(estimator=lm,n_features_to_select=2, direction=\"forward\")\n",
    "\n",
    "forward_4 = SequentialFeatureSelector(estimator=lm,n_features_to_select=4, direction=\"forward\")\n",
    "\n",
    "forward_6 = SequentialFeatureSelector(estimator=lm,n_features_to_select=6, direction=\"forward\")\n",
    "forward_8= SequentialFeatureSelector(estimator=lm,n_features_to_select=8, direction=\"forward\")\n",
    "\n",
    "\n",
    "forward_2.fit(final_df, y)\n",
    "forward_4.fit(final_df, y)\n",
    "forward_6.fit(final_df, y)\n",
    "forward_8.fit(final_df, y)\n",
    "\n",
    "print(\"Features selected with 2:\", forward_2.get_feature_names_out())\n",
    "print(\"Features selected with 4:\", forward_4.get_feature_names_out())\n",
    "print(\"Features selected with 6:\", forward_6.get_feature_names_out())\n",
    "print(\"Features selected with 8:\", forward_8.get_feature_names_out())"
   ]
  },
  {
   "cell_type": "code",
   "execution_count": 52,
   "id": "1a79a5ef-1160-43a0-8995-e91100badefd",
   "metadata": {},
   "outputs": [
    {
     "name": "stdout",
     "output_type": "stream",
     "text": [
      "Features selected with 2: ['DC' 'wind']\n",
      "Features selected with 4: ['jul' 'FFMC' 'DC' 'wind']\n",
      "Features selected with 6: ['jul' 'aug' 'sep' 'FFMC' 'DC' 'wind']\n",
      "Features selected with 8: ['jul' 'aug' 'sep' 'FFMC' 'DC' 'ISI' 'RH' 'wind']\n"
     ]
    }
   ],
   "source": [
    "backward_2 = SequentialFeatureSelector(estimator=lm,n_features_to_select=2, direction=\"backward\")\n",
    "\n",
    "backward_4 = SequentialFeatureSelector(estimator=lm,n_features_to_select=4, direction=\"backward\")\n",
    "\n",
    "backward_6 = SequentialFeatureSelector(estimator=lm,n_features_to_select=6, direction=\"backward\")\n",
    "backward_8= SequentialFeatureSelector(estimator=lm,n_features_to_select=8, direction=\"backward\")\n",
    "\n",
    "\n",
    "backward_2.fit(final_df, y)\n",
    "backward_4.fit(final_df, y)\n",
    "backward_6.fit(final_df, y)\n",
    "backward_8.fit(final_df, y)\n",
    "\n",
    "print(\"Features selected with 2:\", backward_2.get_feature_names_out())\n",
    "print(\"Features selected with 4:\", backward_4.get_feature_names_out())\n",
    "print(\"Features selected with 6:\", backward_6.get_feature_names_out())\n",
    "print(\"Features selected with 8:\", backward_8.get_feature_names_out())"
   ]
  },
  {
   "cell_type": "markdown",
   "id": "e8ace2d4-2a2c-4442-94bd-af77428ccd11",
   "metadata": {},
   "source": [
    "The features that we should used are the same for the forward and the backward method: jul, FFMC, DC and wind. "
   ]
  },
  {
   "cell_type": "code",
   "execution_count": 53,
   "id": "817eed80-f830-4d2f-9a58-72e76231e9a3",
   "metadata": {},
   "outputs": [
    {
     "name": "stdout",
     "output_type": "stream",
     "text": [
      "Ridge alpha:  549.5495495495495\n",
      "LASSO alpha:  10000.0\n",
      "Ridge coef:  [-0.00651365 -0.00116202 -0.02529953  0.03463315  0.02049869  0.03710386\n",
      "  0.02570377 -0.02568536  0.01876849 -0.02624878  0.05196865]\n",
      "LASSO coef:  [-0. -0. -0.  0.  0.  0.  0. -0.  0. -0.  0.]\n"
     ]
    }
   ],
   "source": [
    "ridge = RidgeCV(alphas = np.linspace(100, 1000, num=1000))\n",
    "lasso = LassoCV(alphas = np.linspace(1000, 10000, num=1000))\n",
    "\n",
    "ridge.fit(final_df, y)\n",
    "lasso.fit(final_df, y)\n",
    "\n",
    "print(\"Ridge alpha: \", ridge.alpha_)\n",
    "print(\"LASSO alpha: \", lasso.alpha_)\n",
    "\n",
    "print(\"Ridge coef: \", ridge.coef_)\n",
    "print(\"LASSO coef: \", lasso.coef_)"
   ]
  },
  {
   "cell_type": "markdown",
   "id": "f9e5227e-96fc-452b-b3bc-65b099c276e2",
   "metadata": {},
   "source": [
    "The Lasso coef is too extreme, so we will used the ridge one for the cross validation. "
   ]
  },
  {
   "cell_type": "code",
   "execution_count": 54,
   "id": "41b7a8f9-89a1-4b67-9d7f-fee5a7605c23",
   "metadata": {},
   "outputs": [],
   "source": [
    "sugg_cv= cross_val_score(lm, final_df[[\"wind\", \"temp\"]], y, cv = 5, scoring = \"neg_mean_squared_error\")\n",
    "f2= cross_val_score(lm, final_df[forward_2.get_feature_names_out()] , y, cv = 5, scoring = \"neg_mean_squared_error\")\n",
    "f4= cross_val_score(lm, final_df[forward_4.get_feature_names_out()] , y, cv = 5, scoring = \"neg_mean_squared_error\")\n",
    "f6= cross_val_score(lm, final_df[forward_6.get_feature_names_out()] , y, cv = 5, scoring = \"neg_mean_squared_error\")\n",
    "f8= cross_val_score(lm, final_df[forward_2.get_feature_names_out()] , y, cv = 5, scoring = \"neg_mean_squared_error\")\n",
    "b2= cross_val_score(lm, final_df[backward_2.get_feature_names_out()] , y, cv = 5, scoring = \"neg_mean_squared_error\")\n",
    "b4= cross_val_score(lm, final_df[backward_4.get_feature_names_out()] , y, cv = 5, scoring = \"neg_mean_squared_error\")\n",
    "b6= cross_val_score(lm, final_df[backward_6.get_feature_names_out()] , y, cv = 5, scoring = \"neg_mean_squared_error\")\n",
    "b8= cross_val_score(lm, final_df[backward_8.get_feature_names_out()] , y, cv = 5, scoring = \"neg_mean_squared_error\")\n",
    "ridge_cv= cross_val_score(ridge, final_df, y, cv = 5, scoring = \"neg_mean_squared_error\")\n"
   ]
  },
  {
   "cell_type": "code",
   "execution_count": 55,
   "id": "e61ce047-eb30-4cfc-b302-0cb09e2af1ac",
   "metadata": {},
   "outputs": [
    {
     "name": "stdout",
     "output_type": "stream",
     "text": [
      "Sugg_cv mean and standard deviation of cv: -2.205048472539709 | 1.0605283983641134\n",
      "F2 mean and standard deviation of cv: -2.17433093631593 | 1.021216598545506\n",
      "F4 mean and standard deviation of cv: -2.1850321670226167 | 1.0030782086580101\n",
      "F6 mean and standard deviation of cv: -2.2133992952124544 | 1.0000904332316793\n",
      "F8 mean and standard deviation of cv: -2.17433093631593 | 1.021216598545506\n",
      "B2 mean and standard deviation of cv: -2.175028090235512 | 1.005468961855031\n",
      "B4 mean and standard deviation of cv: -2.1850321670226167 | 1.0030782086580101\n",
      "B6 mean and standard deviation of cv: -2.2133992952124544 | 1.0000904332316793\n",
      "B8 mean and standard deviation of cv: -2.2340159139370264 | 0.9934328301383343\n",
      "Ridge_cv mean and standard deviation of cv: -2.2736567854088725 | 1.0933309869327599\n"
     ]
    }
   ],
   "source": [
    "print(\"Sugg_cv mean and standard deviation of cv:\", np.mean(sugg_cv), \"|\", np.std(sugg_cv))\n",
    "print(\"F2 mean and standard deviation of cv:\", np.mean(f2), \"|\", np.std(f2))\n",
    "print(\"F4 mean and standard deviation of cv:\", np.mean(f4), \"|\", np.std(f4))\n",
    "print(\"F6 mean and standard deviation of cv:\", np.mean(f6), \"|\", np.std(f6))\n",
    "print(\"F8 mean and standard deviation of cv:\", np.mean(f8), \"|\", np.std(f8))\n",
    "print(\"B2 mean and standard deviation of cv:\", np.mean(b2), \"|\", np.std(b2))\n",
    "print(\"B4 mean and standard deviation of cv:\", np.mean(b4), \"|\", np.std(b4))\n",
    "print(\"B6 mean and standard deviation of cv:\", np.mean(b6), \"|\", np.std(b6))\n",
    "print(\"B8 mean and standard deviation of cv:\", np.mean(b8), \"|\", np.std(b8))\n",
    "print(\"Ridge_cv mean and standard deviation of cv:\", np.mean(ridge_cv), \"|\", np.std(ridge_cv))"
   ]
  },
  {
   "cell_type": "markdown",
   "id": "84acfc49-a465-4a4f-b93d-d3811a250cce",
   "metadata": {},
   "source": [
    "The f2 and f8 perform better (the MSE value is less than the other methods), even though this model doesn't perform really well. Maybe the relationship is not linear. "
   ]
  },
  {
   "cell_type": "code",
   "execution_count": 58,
   "id": "c8e91611-7440-4b81-8ebe-f5d427bdea3d",
   "metadata": {},
   "outputs": [],
   "source": [
    "scatter_df=pd.concat([final_df, fires[\"log_area\"]], axis=1)"
   ]
  },
  {
   "cell_type": "code",
   "execution_count": 70,
   "id": "80dc293c-7bd5-4e5a-b4ea-5ffa635175e0",
   "metadata": {},
   "outputs": [
    {
     "data": {
      "image/png": "[encoded data removed]",
      "text/plain": [
       "<Figure size 1600x800 with 1 Axes>"
      ]
     },
     "metadata": {},
     "output_type": "display_data"
    },
    {
     "data": {
      "image/png": "[encoded data removed]",
      "text/plain": [
       "<Figure size 640x480 with 1 Axes>"
      ]
     },
     "metadata": {},
     "output_type": "display_data"
    },
    {
     "data": {
      "image/png": "[encoded data removed]",
      "text/plain": [
       "<Figure size 640x480 with 1 Axes>"
      ]
     },
     "metadata": {},
     "output_type": "display_data"
    },
    {
     "data": {
      "image/png": "[encoded data removed]",
      "text/plain": [
       "<Figure size 640x480 with 1 Axes>"
      ]
     },
     "metadata": {},
     "output_type": "display_data"
    },
    {
     "data": {
      "image/png": "[encoded data removed]",
      "text/plain": [
       "<Figure size 640x480 with 1 Axes>"
      ]
     },
     "metadata": {},
     "output_type": "display_data"
    },
    {
     "data": {
      "image/png": "[encoded data removed]",
      "text/plain": [
       "<Figure size 640x480 with 1 Axes>"
      ]
     },
     "metadata": {},
     "output_type": "display_data"
    },
    {
     "data": {
      "image/png": "[encoded data removed]",
      "text/plain": [
       "<Figure size 640x480 with 1 Axes>"
      ]
     },
     "metadata": {},
     "output_type": "display_data"
    },
    {
     "data": {
      "image/png": "[encoded data removed]",
      "text/plain": [
       "<Figure size 640x480 with 1 Axes>"
      ]
     },
     "metadata": {},
     "output_type": "display_data"
    },
    {
     "data": {
      "image/png": "[encoded data removed]",
      "text/plain": [
       "<Figure size 640x480 with 1 Axes>"
      ]
     },
     "metadata": {},
     "output_type": "display_data"
    },
    {
     "data": {
      "image/png": "[encoded data removed]",
      "text/plain": [
       "<Figure size 640x480 with 1 Axes>"
      ]
     },
     "metadata": {},
     "output_type": "display_data"
    },
    {
     "data": {
      "image/png": "[encoded data removed]",
      "text/plain": [
       "<Figure size 640x480 with 1 Axes>"
      ]
     },
     "metadata": {},
     "output_type": "display_data"
    }
   ],
   "source": [
    "plt.figure(figsize=(16,8))\n",
    "plt.subplots_adjust(hspace=0.5)\n",
    "plt.suptitle(\"Scatterplots features and log_area\", fontsize=18, y=0.95)\n",
    "for i,col in enumerate(final_df):\n",
    "    ax= plt.subplot(6,2, i+1)\n",
    "    scatter_df.plot.scatter(col, \"log_area\", ax=ax)\n",
    "    ax.set_title(col.upper())\n",
    "    plt.show()\n",
    "    "
   ]
  },
  {
   "cell_type": "markdown",
   "id": "f3db53f3-8be7-4654-a479-ef77751f900c",
   "metadata": {},
   "source": [
    "## Spline transformer"
   ]
  },
  {
   "cell_type": "code",
   "execution_count": 77,
   "id": "495db53a-2781-42b8-a78e-157c6015a79a",
   "metadata": {},
   "outputs": [
    {
     "data": {
      "text/html": [
       "<style>#sk-container-id-2 {color: black;background-color: white;}#sk-container-id-2 pre{padding: 0;}#sk-container-id-2 div.sk-toggleable {background-color: white;}#sk-container-id-2 label.sk-toggleable__label {cursor: pointer;display: block;width: 100%;margin-bottom: 0;padding: 0.3em;box-sizing: border-box;text-align: center;}#sk-container-id-2 label.sk-toggleable__label-arrow:before {content: \"▸\";float: left;margin-right: 0.25em;color: #696969;}#sk-container-id-2 label.sk-toggleable__label-arrow:hover:before {color: black;}#sk-container-id-2 div.sk-estimator:hover label.sk-toggleable__label-arrow:before {color: black;}#sk-container-id-2 div.sk-toggleable__content {max-height: 0;max-width: 0;overflow: hidden;text-align: left;background-color: #f0f8ff;}#sk-container-id-2 div.sk-toggleable__content pre {margin: 0.2em;color: black;border-radius: 0.25em;background-color: #f0f8ff;}#sk-container-id-2 input.sk-toggleable__control:checked~div.sk-toggleable__content {max-height: 200px;max-width: 100%;overflow: auto;}#sk-container-id-2 input.sk-toggleable__control:checked~label.sk-toggleable__label-arrow:before {content: \"▾\";}#sk-container-id-2 div.sk-estimator input.sk-toggleable__control:checked~label.sk-toggleable__label {background-color: #d4ebff;}#sk-container-id-2 div.sk-label input.sk-toggleable__control:checked~label.sk-toggleable__label {background-color: #d4ebff;}#sk-container-id-2 input.sk-hidden--visually {border: 0;clip: rect(1px 1px 1px 1px);clip: rect(1px, 1px, 1px, 1px);height: 1px;margin: -1px;overflow: hidden;padding: 0;position: absolute;width: 1px;}#sk-container-id-2 div.sk-estimator {font-family: monospace;background-color: #f0f8ff;border: 1px dotted black;border-radius: 0.25em;box-sizing: border-box;margin-bottom: 0.5em;}#sk-container-id-2 div.sk-estimator:hover {background-color: #d4ebff;}#sk-container-id-2 div.sk-parallel-item::after {content: \"\";width: 100%;border-bottom: 1px solid gray;flex-grow: 1;}#sk-container-id-2 div.sk-label:hover label.sk-toggleable__label {background-color: #d4ebff;}#sk-container-id-2 div.sk-serial::before {content: \"\";position: absolute;border-left: 1px solid gray;box-sizing: border-box;top: 0;bottom: 0;left: 50%;z-index: 0;}#sk-container-id-2 div.sk-serial {display: flex;flex-direction: column;align-items: center;background-color: white;padding-right: 0.2em;padding-left: 0.2em;position: relative;}#sk-container-id-2 div.sk-item {position: relative;z-index: 1;}#sk-container-id-2 div.sk-parallel {display: flex;align-items: stretch;justify-content: center;background-color: white;position: relative;}#sk-container-id-2 div.sk-item::before, #sk-container-id-2 div.sk-parallel-item::before {content: \"\";position: absolute;border-left: 1px solid gray;box-sizing: border-box;top: 0;bottom: 0;left: 50%;z-index: -1;}#sk-container-id-2 div.sk-parallel-item {display: flex;flex-direction: column;z-index: 1;position: relative;background-color: white;}#sk-container-id-2 div.sk-parallel-item:first-child::after {align-self: flex-end;width: 50%;}#sk-container-id-2 div.sk-parallel-item:last-child::after {align-self: flex-start;width: 50%;}#sk-container-id-2 div.sk-parallel-item:only-child::after {width: 0;}#sk-container-id-2 div.sk-dashed-wrapped {border: 1px dashed gray;margin: 0 0.4em 0.5em 0.4em;box-sizing: border-box;padding-bottom: 0.4em;background-color: white;}#sk-container-id-2 div.sk-label label {font-family: monospace;font-weight: bold;display: inline-block;line-height: 1.2em;}#sk-container-id-2 div.sk-label-container {text-align: center;}#sk-container-id-2 div.sk-container {/* jupyter's `normalize.less` sets `[hidden] { display: none; }` but bootstrap.min.css set `[hidden] { display: none !important; }` so we also need the `!important` here to be able to override the default hidden behavior on the sphinx rendered scikit-learn.org. See: https://github.com/scikit-learn/scikit-learn/issues/21755 */display: inline-block !important;position: relative;}#sk-container-id-2 div.sk-text-repr-fallback {display: none;}</style><div id=\"sk-container-id-2\" class=\"sk-top-container\"><div class=\"sk-text-repr-fallback\"><pre>LinearRegression()</pre><b>In a Jupyter environment, please rerun this cell to show the HTML representation or trust the notebook. <br />On GitHub, the HTML representation is unable to render, please try loading this page with nbviewer.org.</b></div><div class=\"sk-container\" hidden><div class=\"sk-item\"><div class=\"sk-estimator sk-toggleable\"><input class=\"sk-toggleable__control sk-hidden--visually\" id=\"sk-estimator-id-2\" type=\"checkbox\" checked><label for=\"sk-estimator-id-2\" class=\"sk-toggleable__label sk-toggleable__label-arrow\">LinearRegression</label><div class=\"sk-toggleable__content\"><pre>LinearRegression()</pre></div></div></div></div></div>"
      ],
      "text/plain": [
       "LinearRegression()"
      ]
     },
     "execution_count": 77,
     "metadata": {},
     "output_type": "execute_result"
    }
   ],
   "source": [
    "spline = SplineTransformer(degree=1, n_knots=2)\n",
    "spline_reg = spline.fit_transform(final_df)\n",
    "lm.fit(spline_reg, y)\n"
   ]
  },
  {
   "cell_type": "code",
   "execution_count": null,
   "id": "841e6893-39e4-458b-805d-a44f0f31077b",
   "metadata": {},
   "outputs": [
    {
     "name": "stdout",
     "output_type": "stream",
     "text": [
      "Spline_cv mean and standard deviation of cv: -2.4333210487968415 | 1.177934560940901\n"
     ]
    }
   ],
   "source": [
    "spline_cv= cross_val_score(lm, spline_reg, y, cv = 5, scoring = \"neg_mean_squared_error\")\n",
    "print(\"Spline_cv mean and standard deviation of cv:\", np.mean(spline_cv), \"|\", np.std(spline_cv))"
   ]
  },
  {
   "cell_type": "code",
   "execution_count": null,
   "id": "bf3e8a3d-c297-49ae-b659-3957c2865012",
   "metadata": {},
   "outputs": [],
   "source": []
  }
 ],
 "metadata": {
  "kernelspec": {
   "display_name": "Python 3 (ipykernel)",
   "language": "python",
   "name": "python3"
  },
  "language_info": {
   "codemirror_mode": {
    "name": "ipython",
    "version": 3
   },
   "file_extension": ".py",
   "mimetype": "text/x-python",
   "name": "python",
   "nbconvert_exporter": "python",
   "pygments_lexer": "ipython3",
   "version": "3.10.6"
  }
 },
 "nbformat": 4,
 "nbformat_minor": 5
}
